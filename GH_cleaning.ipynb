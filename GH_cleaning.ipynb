{
  "nbformat": 4,
  "nbformat_minor": 0,
  "metadata": {
    "colab": {
      "provenance": [],
      "authorship_tag": "ABX9TyPNsgLgFwpN/UMsQNFCvnJo",
      "include_colab_link": true
    },
    "kernelspec": {
      "name": "python3",
      "display_name": "Python 3"
    },
    "language_info": {
      "name": "python"
    }
  },
  "cells": [
    {
      "cell_type": "markdown",
      "metadata": {
        "id": "view-in-github",
        "colab_type": "text"
      },
      "source": [
        "<a href=\"https://colab.research.google.com/github/Ghaidaa66/allMasar/blob/main/GH_cleaning.ipynb\" target=\"_parent\"><img src=\"https://colab.research.google.com/assets/colab-badge.svg\" alt=\"Open In Colab\"/></a>"
      ]
    },
    {
      "cell_type": "markdown",
      "source": [],
      "metadata": {
        "id": "K8NeRCmkxJMb"
      }
    },
    {
      "cell_type": "code",
      "source": [
        "import seaborn as sns  #تفاصيل + import\n",
        "datasets = sns.get_dataset_names()\n",
        "print(\"Available datasets in Seaborn:\")\n",
        "print(datasets)\n",
        "len(datasets)"
      ],
      "metadata": {
        "id": "6o1dYzmpXu6b"
      },
      "execution_count": null,
      "outputs": []
    },
    {
      "cell_type": "code",
      "source": [
        "import seaborn as sns\n",
        "import pandas as pd\n",
        "\n",
        "iris = sns.load_dataset('iris')\n",
        "print(\"First few rows of the Iris dataset:\")\n",
        "display(iris.head())\n",
        "iris.to_csv('gh_iris_masar.csv')"
      ],
      "metadata": {
        "id": "BnzneWvHGmJ0"
      },
      "execution_count": null,
      "outputs": []
    },
    {
      "cell_type": "code",
      "source": [
        "df = pd.read_csv('/content/data.HPM.csv')\n",
        "df\n",
        "df.head()"
      ],
      "metadata": {
        "id": "z0DVHH7HMR4q"
      },
      "execution_count": null,
      "outputs": []
    },
    {
      "cell_type": "code",
      "source": [
        "df = df['Price']\n",
        "df"
      ],
      "metadata": {
        "id": "Z7mgBV4SNVi5"
      },
      "execution_count": null,
      "outputs": []
    },
    {
      "cell_type": "code",
      "source": [
        "import pandas as pd\n",
        "\n",
        "csv_file_path = '/content/data.HPM.csv'\n",
        "df = pd.read_csv(csv_file_path)\n",
        "\n",
        "print(\"First few rows of the data.HPM dataset:\")\n",
        "display(df.head())\n"
      ],
      "metadata": {
        "id": "BfIMEp2SNzOV"
      },
      "execution_count": null,
      "outputs": []
    },
    {
      "cell_type": "code",
      "source": [],
      "metadata": {
        "id": "hMm0oFSNQB-X"
      },
      "execution_count": null,
      "outputs": []
    }
  ]
}