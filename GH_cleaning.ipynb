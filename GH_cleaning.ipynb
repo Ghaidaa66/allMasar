{
  "nbformat": 4,
  "nbformat_minor": 0,
  "metadata": {
    "colab": {
      "provenance": [],
      "authorship_tag": "ABX9TyP7CuwsOQ2ACXdsRgGHMtse",
      "include_colab_link": true
    },
    "kernelspec": {
      "name": "python3",
      "display_name": "Python 3"
    },
    "language_info": {
      "name": "python"
    }
  },
  "cells": [
    {
      "cell_type": "markdown",
      "metadata": {
        "id": "view-in-github",
        "colab_type": "text"
      },
      "source": [
        "<a href=\"https://colab.research.google.com/github/Ghaidaa66/allMasar/blob/main/GH_cleaning.ipynb\" target=\"_parent\"><img src=\"https://colab.research.google.com/assets/colab-badge.svg\" alt=\"Open In Colab\"/></a>"
      ]
    },
    {
      "cell_type": "markdown",
      "source": [],
      "metadata": {
        "id": "K8NeRCmkxJMb"
      }
    },
    {
      "cell_type": "code",
      "source": [
        "import seaborn as sns  #تفاصيل + import\n",
        "datasets = sns.get_dataset_names()\n",
        "print(\"Available datasets in Seaborn:\")\n",
        "print(datasets)\n",
        "len(datasets)"
      ],
      "metadata": {
        "id": "6o1dYzmpXu6b"
      },
      "execution_count": null,
      "outputs": []
    },
    {
      "cell_type": "code",
      "source": [
        "import seaborn as sns\n",
        "import pandas as pd\n",
        "\n",
        "iris = sns.load_dataset('iris')\n",
        "print(\"First few rows of the Iris dataset:\")\n",
        "display(iris.head())\n",
        "iris.to_csv('gh_iris_masar.csv')"
      ],
      "metadata": {
        "id": "BnzneWvHGmJ0"
      },
      "execution_count": null,
      "outputs": []
    },
    {
      "cell_type": "code",
      "source": [
        "df = pd.read_csv('/content/data.HPM.csv')\n",
        "df\n",
        "df.head()"
      ],
      "metadata": {
        "id": "z0DVHH7HMR4q"
      },
      "execution_count": null,
      "outputs": []
    },
    {
      "cell_type": "code",
      "source": [
        "df = df['Price']\n",
        "df"
      ],
      "metadata": {
        "id": "Z7mgBV4SNVi5"
      },
      "execution_count": null,
      "outputs": []
    },
    {
      "cell_type": "code",
      "source": [
        "import pandas as pd\n",
        "\n",
        "csv_file_path = '/content/data.HPM.csv'\n",
        "df = pd.read_csv(csv_file_path)\n",
        "\n",
        "print(\"First few rows of the data.HPM dataset:\")\n",
        "display(df.head())\n"
      ],
      "metadata": {
        "id": "BfIMEp2SNzOV"
      },
      "execution_count": null,
      "outputs": []
    },
    {
      "cell_type": "code",
      "source": [
        "df.head()"
      ],
      "metadata": {
        "id": "hMm0oFSNQB-X"
      },
      "execution_count": null,
      "outputs": []
    },
    {
      "cell_type": "code",
      "source": [
        "df.columns"
      ],
      "metadata": {
        "id": "ZngNw_aoVYQp"
      },
      "execution_count": null,
      "outputs": []
    },
    {
      "cell_type": "code",
      "source": [
        "df.rename(columns={'Price':'Pprice'}, inplace=True) #تغيير الإسم كبتل وسمول"
      ],
      "metadata": {
        "id": "EYDKg3qSXsaS"
      },
      "execution_count": 49,
      "outputs": []
    },
    {
      "cell_type": "code",
      "source": [
        "df.isnull()\n",
        "d = 'Y'\n",
        "dd= ' Y'\n",
        "ddd= '  Y'\n",
        "d_1 = ''"
      ],
      "metadata": {
        "id": "BK2Cby2QX2Mi"
      },
      "execution_count": 51,
      "outputs": []
    },
    {
      "cell_type": "code",
      "source": [
        "df.isnull().sum() #"
      ],
      "metadata": {
        "id": "WB6LzojiYI3m"
      },
      "execution_count": null,
      "outputs": []
    },
    {
      "cell_type": "code",
      "source": [
        "df['Pprice'] = df['Pprice'].fillna(df['Pprice'].mean()) #استبدال البيانات المفقودة إن وجدت بالقيمة المختارة"
      ],
      "metadata": {
        "id": "rdPxz6tRYnMA"
      },
      "execution_count": 56,
      "outputs": []
    },
    {
      "cell_type": "code",
      "source": [
        "df_new = df.dropna()\n",
        "#df"
      ],
      "metadata": {
        "id": "1Mh-6q7MZWKb"
      },
      "execution_count": 59,
      "outputs": []
    },
    {
      "cell_type": "code",
      "source": [
        "df.info()"
      ],
      "metadata": {
        "id": "VlYEUHkkfz-n"
      },
      "execution_count": null,
      "outputs": []
    },
    {
      "cell_type": "code",
      "source": [
        "df_new.info()"
      ],
      "metadata": {
        "id": "6Ex332wGf3NN"
      },
      "execution_count": null,
      "outputs": []
    },
    {
      "cell_type": "code",
      "source": [
        "df_new['Pprice'].unique()"
      ],
      "metadata": {
        "colab": {
          "base_uri": "https://localhost:8080/"
        },
        "id": "zZRM27mVZ8X9",
        "outputId": "652819e6-cc9e-406d-e271-319c189b784d"
      },
      "execution_count": 137,
      "outputs": [
        {
          "output_type": "execute_result",
          "data": {
            "text/plain": [
              "array([ 6300000.,  9000000., 11090000., ...,  5884024.,  5768869.,\n",
              "        6839157.])"
            ]
          },
          "metadata": {},
          "execution_count": 137
        }
      ]
    },
    {
      "cell_type": "code",
      "source": [
        "df_new['Pprice'] = df_new['Pprice'].str.replace('6300000 ', '6300000')\n",
        "df_new['Pprice'] = df_new['Pprice'].str.replace('9000000 ', '9000000')\n",
        "\n",
        "df_new['Pprice'].dtype"
      ],
      "metadata": {
        "id": "_X8gx70Jg3wB"
      },
      "execution_count": null,
      "outputs": []
    },
    {
      "cell_type": "code",
      "source": [
        "import seaborn as sns\n",
        "import matplotlib.pyplot as plt\n",
        "plt.figure(figsize=(10, 6))\n",
        "sns.boxplot(data=df_new\n",
        "            , orient='v', palette='Set2')\n",
        "\n",
        "plt.xlabel('Columns')\n",
        "plt.ylabel('Values')\n",
        "plt.title('Boxplot for Each Column')\n",
        "\n",
        "plt.show()"
      ],
      "metadata": {
        "id": "M0YrEGBviSZl"
      },
      "execution_count": null,
      "outputs": []
    },
    {
      "cell_type": "code",
      "source": [
        "numeric_columns = df_new.select_dtypes(include='number').columns\n",
        "fig, axes = plt.subplots(nrows=len(numeric_columns), ncols=1, figsize=(8, 111))\n",
        "\n",
        "for i, column in enumerate(numeric_columns):\n",
        "    sns.boxplot(y=df_new[column], ax=axes[i])\n",
        "    axes[i].set_title(column)\n",
        "\n",
        "plt.tight_layout()\n",
        "\n",
        "plt.show()"
      ],
      "metadata": {
        "id": "Tc5686CwimZa"
      },
      "execution_count": null,
      "outputs": []
    },
    {
      "cell_type": "code",
      "source": [
        "df_new['Pprice'].max() #الأعلى من القائمة المحددة\n",
        "#df_new.describe() #\n"
      ],
      "metadata": {
        "id": "G55miIzgjP1A"
      },
      "execution_count": null,
      "outputs": []
    },
    {
      "cell_type": "code",
      "source": [
        "df_new.dtypes\n",
        "df_new['Pprice'].head()\n",
        "df_new['Pprice'] = pd.to_numeric(df_new['Pprice'])\n",
        "df_new[df_new.Pprice >= 7150000.0]"
      ],
      "metadata": {
        "colab": {
          "base_uri": "https://localhost:8080/",
          "height": 721
        },
        "id": "XPr2Axjbk090",
        "outputId": "25ea61f9-bdfb-465d-c481-f5fcc2878731"
      },
      "execution_count": 142,
      "outputs": [
        {
          "output_type": "execute_result",
          "data": {
            "text/plain": [
              "           Pprice Apartment type      Metro station  Minutes to metro  \\\n",
              "1       9000000.0      Secondary            Павшино               2.0   \n",
              "2      11090000.0      Secondary           Мякинино              14.0   \n",
              "3       8300000.0      Secondary           Строгино               8.0   \n",
              "5       7150000.0      Secondary            Опалиха               6.0   \n",
              "6       7400000.0      Secondary           Нахабино              11.0   \n",
              "...           ...            ...                ...               ...   \n",
              "22644  13739550.0   New building             Аннино               7.0   \n",
              "22645   8000000.0   New building           Царицыно               7.0   \n",
              "22646  12000000.0   New building            Люблино              17.0   \n",
              "22649   9902265.0   New building  Красногвардейская              16.0   \n",
              "22666   8359176.0   New building      Домодедовская               8.0   \n",
              "\n",
              "              Region  Number of rooms   Area  Living area  Kitchen area  \\\n",
              "1      Moscow region              1.0  49.20         20.0          10.0   \n",
              "2      Moscow region              1.0  44.70         16.2          13.1   \n",
              "3      Moscow region              1.0  35.10         16.0          11.0   \n",
              "5      Moscow region              1.0  38.40         18.0           8.0   \n",
              "6      Moscow region              1.0  33.00         16.0           8.0   \n",
              "...              ...              ...    ...          ...           ...   \n",
              "22644         Moscow              2.0  75.70         40.4          12.9   \n",
              "22645         Moscow              1.0  40.20         18.3           9.2   \n",
              "22646         Moscow              1.0  43.90         15.1          13.3   \n",
              "22649  Moscow region              4.0  86.46         50.4           5.9   \n",
              "22666  Moscow region              2.0  56.42         27.4          14.0   \n",
              "\n",
              "       Floor  Number of floors                 Renovation  \n",
              "1        6.0                15  European-style renovation  \n",
              "2       10.0                25                   Cosmetic  \n",
              "3       12.0                33  European-style renovation  \n",
              "5        8.0                18  European-style renovation  \n",
              "6        7.0                 7  European-style renovation  \n",
              "...      ...               ...                        ...  \n",
              "22644    5.0                22                   Cosmetic  \n",
              "22645   15.0                13                   Cosmetic  \n",
              "22646   21.0                13                   Cosmetic  \n",
              "22649   16.0                20                   Cosmetic  \n",
              "22666    1.0                15                   Cosmetic  \n",
              "\n",
              "[16881 rows x 12 columns]"
            ],
            "text/html": [
              "\n",
              "  <div id=\"df-dfcd00fe-0938-4615-ac2b-88a65cb4a0e8\" class=\"colab-df-container\">\n",
              "    <div>\n",
              "<style scoped>\n",
              "    .dataframe tbody tr th:only-of-type {\n",
              "        vertical-align: middle;\n",
              "    }\n",
              "\n",
              "    .dataframe tbody tr th {\n",
              "        vertical-align: top;\n",
              "    }\n",
              "\n",
              "    .dataframe thead th {\n",
              "        text-align: right;\n",
              "    }\n",
              "</style>\n",
              "<table border=\"1\" class=\"dataframe\">\n",
              "  <thead>\n",
              "    <tr style=\"text-align: right;\">\n",
              "      <th></th>\n",
              "      <th>Pprice</th>\n",
              "      <th>Apartment type</th>\n",
              "      <th>Metro station</th>\n",
              "      <th>Minutes to metro</th>\n",
              "      <th>Region</th>\n",
              "      <th>Number of rooms</th>\n",
              "      <th>Area</th>\n",
              "      <th>Living area</th>\n",
              "      <th>Kitchen area</th>\n",
              "      <th>Floor</th>\n",
              "      <th>Number of floors</th>\n",
              "      <th>Renovation</th>\n",
              "    </tr>\n",
              "  </thead>\n",
              "  <tbody>\n",
              "    <tr>\n",
              "      <th>1</th>\n",
              "      <td>9000000.0</td>\n",
              "      <td>Secondary</td>\n",
              "      <td>Павшино</td>\n",
              "      <td>2.0</td>\n",
              "      <td>Moscow region</td>\n",
              "      <td>1.0</td>\n",
              "      <td>49.20</td>\n",
              "      <td>20.0</td>\n",
              "      <td>10.0</td>\n",
              "      <td>6.0</td>\n",
              "      <td>15</td>\n",
              "      <td>European-style renovation</td>\n",
              "    </tr>\n",
              "    <tr>\n",
              "      <th>2</th>\n",
              "      <td>11090000.0</td>\n",
              "      <td>Secondary</td>\n",
              "      <td>Мякинино</td>\n",
              "      <td>14.0</td>\n",
              "      <td>Moscow region</td>\n",
              "      <td>1.0</td>\n",
              "      <td>44.70</td>\n",
              "      <td>16.2</td>\n",
              "      <td>13.1</td>\n",
              "      <td>10.0</td>\n",
              "      <td>25</td>\n",
              "      <td>Cosmetic</td>\n",
              "    </tr>\n",
              "    <tr>\n",
              "      <th>3</th>\n",
              "      <td>8300000.0</td>\n",
              "      <td>Secondary</td>\n",
              "      <td>Строгино</td>\n",
              "      <td>8.0</td>\n",
              "      <td>Moscow region</td>\n",
              "      <td>1.0</td>\n",
              "      <td>35.10</td>\n",
              "      <td>16.0</td>\n",
              "      <td>11.0</td>\n",
              "      <td>12.0</td>\n",
              "      <td>33</td>\n",
              "      <td>European-style renovation</td>\n",
              "    </tr>\n",
              "    <tr>\n",
              "      <th>5</th>\n",
              "      <td>7150000.0</td>\n",
              "      <td>Secondary</td>\n",
              "      <td>Опалиха</td>\n",
              "      <td>6.0</td>\n",
              "      <td>Moscow region</td>\n",
              "      <td>1.0</td>\n",
              "      <td>38.40</td>\n",
              "      <td>18.0</td>\n",
              "      <td>8.0</td>\n",
              "      <td>8.0</td>\n",
              "      <td>18</td>\n",
              "      <td>European-style renovation</td>\n",
              "    </tr>\n",
              "    <tr>\n",
              "      <th>6</th>\n",
              "      <td>7400000.0</td>\n",
              "      <td>Secondary</td>\n",
              "      <td>Нахабино</td>\n",
              "      <td>11.0</td>\n",
              "      <td>Moscow region</td>\n",
              "      <td>1.0</td>\n",
              "      <td>33.00</td>\n",
              "      <td>16.0</td>\n",
              "      <td>8.0</td>\n",
              "      <td>7.0</td>\n",
              "      <td>7</td>\n",
              "      <td>European-style renovation</td>\n",
              "    </tr>\n",
              "    <tr>\n",
              "      <th>...</th>\n",
              "      <td>...</td>\n",
              "      <td>...</td>\n",
              "      <td>...</td>\n",
              "      <td>...</td>\n",
              "      <td>...</td>\n",
              "      <td>...</td>\n",
              "      <td>...</td>\n",
              "      <td>...</td>\n",
              "      <td>...</td>\n",
              "      <td>...</td>\n",
              "      <td>...</td>\n",
              "      <td>...</td>\n",
              "    </tr>\n",
              "    <tr>\n",
              "      <th>22644</th>\n",
              "      <td>13739550.0</td>\n",
              "      <td>New building</td>\n",
              "      <td>Аннино</td>\n",
              "      <td>7.0</td>\n",
              "      <td>Moscow</td>\n",
              "      <td>2.0</td>\n",
              "      <td>75.70</td>\n",
              "      <td>40.4</td>\n",
              "      <td>12.9</td>\n",
              "      <td>5.0</td>\n",
              "      <td>22</td>\n",
              "      <td>Cosmetic</td>\n",
              "    </tr>\n",
              "    <tr>\n",
              "      <th>22645</th>\n",
              "      <td>8000000.0</td>\n",
              "      <td>New building</td>\n",
              "      <td>Царицыно</td>\n",
              "      <td>7.0</td>\n",
              "      <td>Moscow</td>\n",
              "      <td>1.0</td>\n",
              "      <td>40.20</td>\n",
              "      <td>18.3</td>\n",
              "      <td>9.2</td>\n",
              "      <td>15.0</td>\n",
              "      <td>13</td>\n",
              "      <td>Cosmetic</td>\n",
              "    </tr>\n",
              "    <tr>\n",
              "      <th>22646</th>\n",
              "      <td>12000000.0</td>\n",
              "      <td>New building</td>\n",
              "      <td>Люблино</td>\n",
              "      <td>17.0</td>\n",
              "      <td>Moscow</td>\n",
              "      <td>1.0</td>\n",
              "      <td>43.90</td>\n",
              "      <td>15.1</td>\n",
              "      <td>13.3</td>\n",
              "      <td>21.0</td>\n",
              "      <td>13</td>\n",
              "      <td>Cosmetic</td>\n",
              "    </tr>\n",
              "    <tr>\n",
              "      <th>22649</th>\n",
              "      <td>9902265.0</td>\n",
              "      <td>New building</td>\n",
              "      <td>Красногвардейская</td>\n",
              "      <td>16.0</td>\n",
              "      <td>Moscow region</td>\n",
              "      <td>4.0</td>\n",
              "      <td>86.46</td>\n",
              "      <td>50.4</td>\n",
              "      <td>5.9</td>\n",
              "      <td>16.0</td>\n",
              "      <td>20</td>\n",
              "      <td>Cosmetic</td>\n",
              "    </tr>\n",
              "    <tr>\n",
              "      <th>22666</th>\n",
              "      <td>8359176.0</td>\n",
              "      <td>New building</td>\n",
              "      <td>Домодедовская</td>\n",
              "      <td>8.0</td>\n",
              "      <td>Moscow region</td>\n",
              "      <td>2.0</td>\n",
              "      <td>56.42</td>\n",
              "      <td>27.4</td>\n",
              "      <td>14.0</td>\n",
              "      <td>1.0</td>\n",
              "      <td>15</td>\n",
              "      <td>Cosmetic</td>\n",
              "    </tr>\n",
              "  </tbody>\n",
              "</table>\n",
              "<p>16881 rows × 12 columns</p>\n",
              "</div>\n",
              "    <div class=\"colab-df-buttons\">\n",
              "\n",
              "  <div class=\"colab-df-container\">\n",
              "    <button class=\"colab-df-convert\" onclick=\"convertToInteractive('df-dfcd00fe-0938-4615-ac2b-88a65cb4a0e8')\"\n",
              "            title=\"Convert this dataframe to an interactive table.\"\n",
              "            style=\"display:none;\">\n",
              "\n",
              "  <svg xmlns=\"http://www.w3.org/2000/svg\" height=\"24px\" viewBox=\"0 -960 960 960\">\n",
              "    <path d=\"M120-120v-720h720v720H120Zm60-500h600v-160H180v160Zm220 220h160v-160H400v160Zm0 220h160v-160H400v160ZM180-400h160v-160H180v160Zm440 0h160v-160H620v160ZM180-180h160v-160H180v160Zm440 0h160v-160H620v160Z\"/>\n",
              "  </svg>\n",
              "    </button>\n",
              "\n",
              "  <style>\n",
              "    .colab-df-container {\n",
              "      display:flex;\n",
              "      gap: 12px;\n",
              "    }\n",
              "\n",
              "    .colab-df-convert {\n",
              "      background-color: #E8F0FE;\n",
              "      border: none;\n",
              "      border-radius: 50%;\n",
              "      cursor: pointer;\n",
              "      display: none;\n",
              "      fill: #1967D2;\n",
              "      height: 32px;\n",
              "      padding: 0 0 0 0;\n",
              "      width: 32px;\n",
              "    }\n",
              "\n",
              "    .colab-df-convert:hover {\n",
              "      background-color: #E2EBFA;\n",
              "      box-shadow: 0px 1px 2px rgba(60, 64, 67, 0.3), 0px 1px 3px 1px rgba(60, 64, 67, 0.15);\n",
              "      fill: #174EA6;\n",
              "    }\n",
              "\n",
              "    .colab-df-buttons div {\n",
              "      margin-bottom: 4px;\n",
              "    }\n",
              "\n",
              "    [theme=dark] .colab-df-convert {\n",
              "      background-color: #3B4455;\n",
              "      fill: #D2E3FC;\n",
              "    }\n",
              "\n",
              "    [theme=dark] .colab-df-convert:hover {\n",
              "      background-color: #434B5C;\n",
              "      box-shadow: 0px 1px 3px 1px rgba(0, 0, 0, 0.15);\n",
              "      filter: drop-shadow(0px 1px 2px rgba(0, 0, 0, 0.3));\n",
              "      fill: #FFFFFF;\n",
              "    }\n",
              "  </style>\n",
              "\n",
              "    <script>\n",
              "      const buttonEl =\n",
              "        document.querySelector('#df-dfcd00fe-0938-4615-ac2b-88a65cb4a0e8 button.colab-df-convert');\n",
              "      buttonEl.style.display =\n",
              "        google.colab.kernel.accessAllowed ? 'block' : 'none';\n",
              "\n",
              "      async function convertToInteractive(key) {\n",
              "        const element = document.querySelector('#df-dfcd00fe-0938-4615-ac2b-88a65cb4a0e8');\n",
              "        const dataTable =\n",
              "          await google.colab.kernel.invokeFunction('convertToInteractive',\n",
              "                                                    [key], {});\n",
              "        if (!dataTable) return;\n",
              "\n",
              "        const docLinkHtml = 'Like what you see? Visit the ' +\n",
              "          '<a target=\"_blank\" href=https://colab.research.google.com/notebooks/data_table.ipynb>data table notebook</a>'\n",
              "          + ' to learn more about interactive tables.';\n",
              "        element.innerHTML = '';\n",
              "        dataTable['output_type'] = 'display_data';\n",
              "        await google.colab.output.renderOutput(dataTable, element);\n",
              "        const docLink = document.createElement('div');\n",
              "        docLink.innerHTML = docLinkHtml;\n",
              "        element.appendChild(docLink);\n",
              "      }\n",
              "    </script>\n",
              "  </div>\n",
              "\n",
              "\n",
              "<div id=\"df-636b1e5f-34b1-428d-8275-7e6150ae504f\">\n",
              "  <button class=\"colab-df-quickchart\" onclick=\"quickchart('df-636b1e5f-34b1-428d-8275-7e6150ae504f')\"\n",
              "            title=\"Suggest charts\"\n",
              "            style=\"display:none;\">\n",
              "\n",
              "<svg xmlns=\"http://www.w3.org/2000/svg\" height=\"24px\"viewBox=\"0 0 24 24\"\n",
              "     width=\"24px\">\n",
              "    <g>\n",
              "        <path d=\"M19 3H5c-1.1 0-2 .9-2 2v14c0 1.1.9 2 2 2h14c1.1 0 2-.9 2-2V5c0-1.1-.9-2-2-2zM9 17H7v-7h2v7zm4 0h-2V7h2v10zm4 0h-2v-4h2v4z\"/>\n",
              "    </g>\n",
              "</svg>\n",
              "  </button>\n",
              "\n",
              "<style>\n",
              "  .colab-df-quickchart {\n",
              "      --bg-color: #E8F0FE;\n",
              "      --fill-color: #1967D2;\n",
              "      --hover-bg-color: #E2EBFA;\n",
              "      --hover-fill-color: #174EA6;\n",
              "      --disabled-fill-color: #AAA;\n",
              "      --disabled-bg-color: #DDD;\n",
              "  }\n",
              "\n",
              "  [theme=dark] .colab-df-quickchart {\n",
              "      --bg-color: #3B4455;\n",
              "      --fill-color: #D2E3FC;\n",
              "      --hover-bg-color: #434B5C;\n",
              "      --hover-fill-color: #FFFFFF;\n",
              "      --disabled-bg-color: #3B4455;\n",
              "      --disabled-fill-color: #666;\n",
              "  }\n",
              "\n",
              "  .colab-df-quickchart {\n",
              "    background-color: var(--bg-color);\n",
              "    border: none;\n",
              "    border-radius: 50%;\n",
              "    cursor: pointer;\n",
              "    display: none;\n",
              "    fill: var(--fill-color);\n",
              "    height: 32px;\n",
              "    padding: 0;\n",
              "    width: 32px;\n",
              "  }\n",
              "\n",
              "  .colab-df-quickchart:hover {\n",
              "    background-color: var(--hover-bg-color);\n",
              "    box-shadow: 0 1px 2px rgba(60, 64, 67, 0.3), 0 1px 3px 1px rgba(60, 64, 67, 0.15);\n",
              "    fill: var(--button-hover-fill-color);\n",
              "  }\n",
              "\n",
              "  .colab-df-quickchart-complete:disabled,\n",
              "  .colab-df-quickchart-complete:disabled:hover {\n",
              "    background-color: var(--disabled-bg-color);\n",
              "    fill: var(--disabled-fill-color);\n",
              "    box-shadow: none;\n",
              "  }\n",
              "\n",
              "  .colab-df-spinner {\n",
              "    border: 2px solid var(--fill-color);\n",
              "    border-color: transparent;\n",
              "    border-bottom-color: var(--fill-color);\n",
              "    animation:\n",
              "      spin 1s steps(1) infinite;\n",
              "  }\n",
              "\n",
              "  @keyframes spin {\n",
              "    0% {\n",
              "      border-color: transparent;\n",
              "      border-bottom-color: var(--fill-color);\n",
              "      border-left-color: var(--fill-color);\n",
              "    }\n",
              "    20% {\n",
              "      border-color: transparent;\n",
              "      border-left-color: var(--fill-color);\n",
              "      border-top-color: var(--fill-color);\n",
              "    }\n",
              "    30% {\n",
              "      border-color: transparent;\n",
              "      border-left-color: var(--fill-color);\n",
              "      border-top-color: var(--fill-color);\n",
              "      border-right-color: var(--fill-color);\n",
              "    }\n",
              "    40% {\n",
              "      border-color: transparent;\n",
              "      border-right-color: var(--fill-color);\n",
              "      border-top-color: var(--fill-color);\n",
              "    }\n",
              "    60% {\n",
              "      border-color: transparent;\n",
              "      border-right-color: var(--fill-color);\n",
              "    }\n",
              "    80% {\n",
              "      border-color: transparent;\n",
              "      border-right-color: var(--fill-color);\n",
              "      border-bottom-color: var(--fill-color);\n",
              "    }\n",
              "    90% {\n",
              "      border-color: transparent;\n",
              "      border-bottom-color: var(--fill-color);\n",
              "    }\n",
              "  }\n",
              "</style>\n",
              "\n",
              "  <script>\n",
              "    async function quickchart(key) {\n",
              "      const quickchartButtonEl =\n",
              "        document.querySelector('#' + key + ' button');\n",
              "      quickchartButtonEl.disabled = true;  // To prevent multiple clicks.\n",
              "      quickchartButtonEl.classList.add('colab-df-spinner');\n",
              "      try {\n",
              "        const charts = await google.colab.kernel.invokeFunction(\n",
              "            'suggestCharts', [key], {});\n",
              "      } catch (error) {\n",
              "        console.error('Error during call to suggestCharts:', error);\n",
              "      }\n",
              "      quickchartButtonEl.classList.remove('colab-df-spinner');\n",
              "      quickchartButtonEl.classList.add('colab-df-quickchart-complete');\n",
              "    }\n",
              "    (() => {\n",
              "      let quickchartButtonEl =\n",
              "        document.querySelector('#df-636b1e5f-34b1-428d-8275-7e6150ae504f button');\n",
              "      quickchartButtonEl.style.display =\n",
              "        google.colab.kernel.accessAllowed ? 'block' : 'none';\n",
              "    })();\n",
              "  </script>\n",
              "</div>\n",
              "\n",
              "    </div>\n",
              "  </div>\n"
            ],
            "application/vnd.google.colaboratory.intrinsic+json": {
              "type": "dataframe",
              "summary": "{\n  \"name\": \"df_new[df_new\",\n  \"rows\": 16881,\n  \"fields\": [\n    {\n      \"column\": \"Pprice\",\n      \"properties\": {\n        \"dtype\": \"number\",\n        \"std\": 93692699.18380693,\n        \"min\": 7150000.0,\n        \"max\": 2455020000.0,\n        \"samples\": [\n          8028161.0,\n          341000000.0,\n          21706077.0\n        ],\n        \"num_unique_values\": 6306,\n        \"semantic_type\": \"\",\n        \"description\": \"\"\n      }\n    },\n    {\n      \"column\": \"Apartment type\",\n      \"properties\": {\n        \"dtype\": \"category\",\n        \"samples\": [\n          \"New building\",\n          \"Secondary\"\n        ],\n        \"num_unique_values\": 2,\n        \"semantic_type\": \"\",\n        \"description\": \"\"\n      }\n    },\n    {\n      \"column\": \"Metro station\",\n      \"properties\": {\n        \"dtype\": \"category\",\n        \"samples\": [\n          \" \\u0422\\u0443\\u0448\\u0438\\u043d\\u0441\\u043a\\u0430\\u044f\",\n          \"\\u041f\\u0430\\u0440\\u043a \\u043a\\u0443\\u043b\\u044c\\u0442\\u0443\\u0440\\u044b\"\n        ],\n        \"num_unique_values\": 532,\n        \"semantic_type\": \"\",\n        \"description\": \"\"\n      }\n    },\n    {\n      \"column\": \"Minutes to metro\",\n      \"properties\": {\n        \"dtype\": \"number\",\n        \"std\": 6.607534692093256,\n        \"min\": 0.0,\n        \"max\": 60.0,\n        \"samples\": [\n          28.0,\n          27.0\n        ],\n        \"num_unique_values\": 55,\n        \"semantic_type\": \"\",\n        \"description\": \"\"\n      }\n    },\n    {\n      \"column\": \"Region\",\n      \"properties\": {\n        \"dtype\": \"category\",\n        \"samples\": [\n          \"Moscow\",\n          \"Moscow region\"\n        ],\n        \"num_unique_values\": 2,\n        \"semantic_type\": \"\",\n        \"description\": \"\"\n      }\n    },\n    {\n      \"column\": \"Number of rooms\",\n      \"properties\": {\n        \"dtype\": \"number\",\n        \"std\": 1.4785666241439521,\n        \"min\": 0.0,\n        \"max\": 12.0,\n        \"samples\": [\n          12.0,\n          9.0\n        ],\n        \"num_unique_values\": 12,\n        \"semantic_type\": \"\",\n        \"description\": \"\"\n      }\n    },\n    {\n      \"column\": \"Area\",\n      \"properties\": {\n        \"dtype\": \"number\",\n        \"std\": 74.31946713033258,\n        \"min\": 9.8,\n        \"max\": 1117.0,\n        \"samples\": [\n          188.5,\n          124.3\n        ],\n        \"num_unique_values\": 2521,\n        \"semantic_type\": \"\",\n        \"description\": \"\"\n      }\n    },\n    {\n      \"column\": \"Living area\",\n      \"properties\": {\n        \"dtype\": \"number\",\n        \"std\": 41.776174890576726,\n        \"min\": 2.0,\n        \"max\": 566.8,\n        \"samples\": [\n          18.1,\n          67.7\n        ],\n        \"num_unique_values\": 1297,\n        \"semantic_type\": \"\",\n        \"description\": \"\"\n      }\n    },\n    {\n      \"column\": \"Kitchen area\",\n      \"properties\": {\n        \"dtype\": \"number\",\n        \"std\": 8.289157092577064,\n        \"min\": 1.0,\n        \"max\": 122.0,\n        \"samples\": [\n          2.1,\n          8.3\n        ],\n        \"num_unique_values\": 476,\n        \"semantic_type\": \"\",\n        \"description\": \"\"\n      }\n    },\n    {\n      \"column\": \"Floor\",\n      \"properties\": {\n        \"dtype\": \"number\",\n        \"std\": 8.064580467429598,\n        \"min\": 1.0,\n        \"max\": 92.0,\n        \"samples\": [\n          7.0,\n          43.0\n        ],\n        \"num_unique_values\": 72,\n        \"semantic_type\": \"\",\n        \"description\": \"\"\n      }\n    },\n    {\n      \"column\": \"Number of floors\",\n      \"properties\": {\n        \"dtype\": \"number\",\n        \"std\": 10,\n        \"min\": 1,\n        \"max\": 97,\n        \"samples\": [\n          16,\n          15\n        ],\n        \"num_unique_values\": 83,\n        \"semantic_type\": \"\",\n        \"description\": \"\"\n      }\n    },\n    {\n      \"column\": \"Renovation\",\n      \"properties\": {\n        \"dtype\": \"category\",\n        \"samples\": [\n          \"Cosmetic\",\n          \"Without renovation\"\n        ],\n        \"num_unique_values\": 4,\n        \"semantic_type\": \"\",\n        \"description\": \"\"\n      }\n    }\n  ]\n}"
            }
          },
          "metadata": {},
          "execution_count": 142
        }
      ]
    },
    {
      "cell_type": "code",
      "source": [
        "df.duplicated()"
      ],
      "metadata": {
        "id": "CwjQPl7mnEY0"
      },
      "execution_count": null,
      "outputs": []
    },
    {
      "cell_type": "code",
      "source": [
        "#df.to_csv('GHAIDAA_clean_dia.csv')"
      ],
      "metadata": {
        "id": "lmVmjQKnnJaK"
      },
      "execution_count": 144,
      "outputs": []
    },
    {
      "cell_type": "code",
      "source": [],
      "metadata": {
        "id": "9hxatq9goKUa"
      },
      "execution_count": null,
      "outputs": []
    },
    {
      "cell_type": "code",
      "source": [
        "df"
      ],
      "metadata": {
        "id": "CylaDfB5zNZ2"
      },
      "execution_count": null,
      "outputs": []
    },
    {
      "cell_type": "code",
      "source": [
        "del df['Metro station']"
      ],
      "metadata": {
        "id": "68TPzeiRtUrR"
      },
      "execution_count": 132,
      "outputs": []
    },
    {
      "cell_type": "code",
      "source": [
        "df.head()"
      ],
      "metadata": {
        "id": "m4RHn04czAO-"
      },
      "execution_count": null,
      "outputs": []
    },
    {
      "cell_type": "code",
      "source": [
        "import sklearn.preprocessing\n",
        "\n",
        "columns_to_normalize = ['Pprice', 'Number of rooms', 'Area', 'Living area', 'Kitchen area', 'Floor', 'Number of floors']\n",
        "scaler = sklearn.preprocessing.StandardScaler()\n",
        "#df[columns_to_normalize] = scaler.fit_transform(df[columns_to_normalize])"
      ],
      "metadata": {
        "id": "5KO9N-8Z1Agx"
      },
      "execution_count": 177,
      "outputs": []
    },
    {
      "cell_type": "code",
      "source": [
        "df"
      ],
      "metadata": {
        "id": "9MOW6kKU2G7u"
      },
      "execution_count": null,
      "outputs": []
    },
    {
      "cell_type": "code",
      "source": [],
      "metadata": {
        "id": "xHR1sbTh4KlH"
      },
      "execution_count": null,
      "outputs": []
    },
    {
      "cell_type": "code",
      "source": [
        "df['Region'] = df['Region'].replace({'Moscow region': 0, 'Moscow': 1})"
      ],
      "metadata": {
        "id": "U-fbLlTk4U1X"
      },
      "execution_count": 174,
      "outputs": []
    },
    {
      "cell_type": "code",
      "source": [
        "df.head()"
      ],
      "metadata": {
        "id": "n1n5rGgI45Oo"
      },
      "execution_count": null,
      "outputs": []
    },
    {
      "cell_type": "code",
      "source": [],
      "metadata": {
        "id": "TFO0qzeB5b1X"
      },
      "execution_count": null,
      "outputs": []
    },
    {
      "cell_type": "code",
      "source": [
        "df_2 = df"
      ],
      "metadata": {
        "id": "jMAlG5dm5cBJ"
      },
      "execution_count": 181,
      "outputs": []
    },
    {
      "cell_type": "code",
      "source": [
        "import pandas as pd\n",
        "\n",
        "data = {'Number of rooms': [1.0, 2.0, 4.0],\n",
        "        'Floor': [6.0, 7.0, 8.0, 10.0, 12.0]}\n",
        "\n",
        "df = pd.DataFrame(data)\n",
        "\n",
        "print(\"Original DataFrame:\")\n",
        "print(df)\n",
        "\n",
        "df['Number of floors'] = df['Number of rooms'] / (df['Floor'] ** 2)\n",
        "\n",
        "print(\"\\nDataFrame with Number of floors:\")\n",
        "print(df)"
      ],
      "metadata": {
        "id": "SZkIalPn6ojY"
      },
      "execution_count": null,
      "outputs": []
    },
    {
      "cell_type": "code",
      "source": [
        "print(data)\n",
        "for key, value in data.items():\n",
        "    print(f\"{key}: {len(value)}\")\n",
        "\n",
        "data = {'Number of rooms': [1.0, 2.0, 4.0],\n",
        "        'Floor': [6.0, 7.0, 8.0]}\n",
        "\n",
        "df = pd.DataFrame(data)\n",
        "\n",
        "print(\"Original DataFrame:\")\n",
        "print(df)\n",
        "\n",
        "df['Number of floors'] = df['Number of rooms'] / (df['Floor'] ** 2)\n",
        "\n",
        "print(\"\\nDataFrame with Number of floors:\")\n",
        "print(df)"
      ],
      "metadata": {
        "id": "_xVELI5V8LBG"
      },
      "execution_count": null,
      "outputs": []
    }
  ]
}