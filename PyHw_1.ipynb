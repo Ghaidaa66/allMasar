{
  "nbformat": 4,
  "nbformat_minor": 0,
  "metadata": {
    "colab": {
      "provenance": [],
      "authorship_tag": "ABX9TyPHIxN1wbmhoeREVxXklaoy",
      "include_colab_link": true
    },
    "kernelspec": {
      "name": "python3",
      "display_name": "Python 3"
    },
    "language_info": {
      "name": "python"
    }
  },
  "cells": [
    {
      "cell_type": "markdown",
      "metadata": {
        "id": "view-in-github",
        "colab_type": "text"
      },
      "source": [
        "<a href=\"https://colab.research.google.com/github/Ghaidaa66/allMasar/blob/main/PyHw_1.ipynb\" target=\"_parent\"><img src=\"https://colab.research.google.com/assets/colab-badge.svg\" alt=\"Open In Colab\"/></a>"
      ]
    },
    {
      "cell_type": "code",
      "execution_count": 9,
      "metadata": {
        "colab": {
          "base_uri": "https://localhost:8080/"
        },
        "id": "dcy5ivD7xlvy",
        "outputId": "92ac6bfe-ffd0-4b41-897a-d75077e6188b"
      },
      "outputs": [
        {
          "output_type": "stream",
          "name": "stdout",
          "text": [
            "my name is GHAIDAA ALASMARI , my age is 23  \n",
            " GRAPHIC DESIGNER AND INTERESTED IN DATA SCINIENCE\n"
          ]
        }
      ],
      "source": [
        "name = 'GHAIDAA ALASMARI' #FIRST-LAST NAME\n",
        "\n",
        "age = '23'\n",
        "\n",
        "#ABOUT ME - I'll use some of the commands i learned\n",
        "print(f'my name is {name} , my age is {age}  \\n GRAPHIC DESIGNER AND INTERESTED IN DATA SCINIENCE')"
      ]
    }
  ]
}