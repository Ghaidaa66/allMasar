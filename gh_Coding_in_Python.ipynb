{
  "nbformat": 4,
  "nbformat_minor": 0,
  "metadata": {
    "colab": {
      "provenance": [],
      "include_colab_link": true
    },
    "kernelspec": {
      "name": "python3",
      "display_name": "Python 3"
    },
    "language_info": {
      "name": "python"
    }
  },
  "cells": [
    {
      "cell_type": "markdown",
      "metadata": {
        "id": "view-in-github",
        "colab_type": "text"
      },
      "source": [
        "<a href=\"https://colab.research.google.com/github/Ghaidaa66/allMasar/blob/main/gh_Coding_in_Python.ipynb\" target=\"_parent\"><img src=\"https://colab.research.google.com/assets/colab-badge.svg\" alt=\"Open In Colab\"/></a>"
      ]
    },
    {
      "cell_type": "markdown",
      "source": [
        "1. Loop:\n",
        "Question:\n",
        "Write a Python program that uses a 'for' loop to print all even numbers from 1 to 10. Then, use 'while' loop."
      ],
      "metadata": {
        "id": "s3ipcakz3HYv"
      }
    },
    {
      "cell_type": "code",
      "execution_count": 49,
      "metadata": {
        "id": "Zox_Orcl3Eug",
        "colab": {
          "base_uri": "https://localhost:8080/"
        },
        "outputId": "ae5201bb-4450-43a8-db45-9a4dfc1e2e54"
      },
      "outputs": [
        {
          "output_type": "stream",
          "name": "stdout",
          "text": [
            "Using 'for' loop:\n",
            "2\n",
            "4\n",
            "6\n",
            "8\n",
            "10\n",
            "\n",
            "Using 'while' loop:\n",
            "2\n",
            "4\n",
            "6\n",
            "8\n",
            "10\n"
          ]
        }
      ],
      "source": [
        "# Using 'for' loop\n",
        "print(\"Using 'for' loop:\")\n",
        "for i in range(2, 11, 2):\n",
        "    print(i)\n",
        "\n",
        "\n",
        "# Using 'while' loop\n",
        "print(\"\\nUsing 'while' loop:\")\n",
        "num = 2\n",
        "while num <= 10:\n",
        "    print(num)\n",
        "    num += 2"
      ]
    },
    {
      "cell_type": "markdown",
      "source": [
        "2. Control Flows:\n",
        "Question:\n",
        "Create a Python function named grade_classifier that takes a student's score as an argument and returns a string indicating their grade. Use the following criteria:\n",
        "\n",
        "Score >= 90: \"A\"\n",
        "80 <= Score < 90: \"B\"\n",
        "70 <= Score < 80: \"C\"\n",
        "60 <= Score < 70: \"D\"\n",
        "Score < 60: \"F\""
      ],
      "metadata": {
        "id": "2mJD3d1P3XwY"
      }
    },
    {
      "cell_type": "code",
      "source": [
        "def grade_classifier(score):\n",
        "    if score >= 90:\n",
        "        return \"A\"\n",
        "    elif 80 <= score < 90:\n",
        "        return \"B\"\n",
        "    elif 70 <= score < 80:\n",
        "        return \"C\"\n",
        "    elif 60 <= score < 70:\n",
        "        return \"D\"\n",
        "    else:\n",
        "        return \"F\"\n",
        "\n",
        "# Example usage:\n",
        "student_score = float(input(\"Enter the student's score: \"))\n",
        "grade = grade_classifier(student_score)\n",
        "print(f\"Student's score: {student_score}, Grade: {grade}\")\n"
      ],
      "metadata": {
        "colab": {
          "base_uri": "https://localhost:8080/"
        },
        "id": "4tNVgHGcmShE",
        "outputId": "27fc98bc-8c91-4839-8918-dfdf03669636"
      },
      "execution_count": 50,
      "outputs": [
        {
          "output_type": "stream",
          "name": "stdout",
          "text": [
            "Enter the student's score: 88\n",
            "Student's score: 88.0, Grade: B\n"
          ]
        }
      ]
    },
    {
      "cell_type": "markdown",
      "source": [
        "3. If Conditions:\n",
        "Question:\n",
        "Write a Python program that prompts the user to enter their age. Use if-elif-else statements to categorize and print the user's age group as follows:\n",
        "\n",
        "If the age is less than 13, print \"Child.\"\n",
        "If the age is between 13 and 19 (inclusive), print \"Teenager.\"\n",
        "If the age is between 20 and 59 (inclusive), print \"Adult.\"\n",
        "If the age is 60 or older, print \"Senior Citizen.\""
      ],
      "metadata": {
        "id": "w7EeMAF83cHA"
      }
    },
    {
      "cell_type": "code",
      "source": [
        "# Prompt user to enter age\n",
        "user_age = int(input(\"Enter your age: \"))\n",
        "\n",
        "# Categorize and print age group\n",
        "if user_age < 13:\n",
        "    print(\"Child\")\n",
        "elif 13 <= user_age <= 19:\n",
        "    print(\"Teenager\")\n",
        "elif 20 <= user_age <= 59:\n",
        "    print(\"Adult\")\n",
        "else:\n",
        "    print(\"Senior Citizen\")"
      ],
      "metadata": {
        "id": "FUEtX83a3o9C",
        "colab": {
          "base_uri": "https://localhost:8080/"
        },
        "outputId": "6f2b8de3-e6e1-4979-a7c3-55d4271f72b4"
      },
      "execution_count": 54,
      "outputs": [
        {
          "output_type": "stream",
          "name": "stdout",
          "text": [
            "Enter your age: 88\n",
            "Senior Citizen\n"
          ]
        }
      ]
    },
    {
      "cell_type": "markdown",
      "source": [
        "4. Functions:\n",
        "Question:\n",
        "Define a Python function named multiply_numbers that takes two parameters (num1 and num2) and returns their product. Test the function with values 5 and 7."
      ],
      "metadata": {
        "id": "y9x9lhW63t1R"
      }
    },
    {
      "cell_type": "code",
      "source": [
        "def multiply_numbers(num1, num2):\n",
        "    return num1 * num2\n",
        "\n",
        "# Test the function with values 5 and 7\n",
        "result = multiply_numbers(5, 7)\n",
        "\n",
        "# Print the result\n",
        "print(f\"The product of 5 and 7 is: {result}\")"
      ],
      "metadata": {
        "id": "kHuQ4NMa3xqT",
        "colab": {
          "base_uri": "https://localhost:8080/"
        },
        "outputId": "c9e52586-38f4-438d-96fa-ebd4b5b29998"
      },
      "execution_count": 52,
      "outputs": [
        {
          "output_type": "stream",
          "name": "stdout",
          "text": [
            "The product of 5 and 7 is: 35\n"
          ]
        }
      ]
    },
    {
      "cell_type": "markdown",
      "source": [
        "5.\n",
        "Write a Python program that does the following:\n",
        "\n",
        "Prompts the user to enter a number (user_num).\n",
        "Uses a loop to print all numbers from 1 to user_num (inclusive) that are divisible by 3.\n"
      ],
      "metadata": {
        "id": "i8tO0E8U3zBB"
      }
    },
    {
      "cell_type": "code",
      "source": [
        "# Prompt user to enter a number\n",
        "user_num = int(input(\"Enter a number: \"))\n",
        "\n",
        "# Use a loop to print numbers divisible by 3\n",
        "print(f\"Numbers from 1 to {user_num} divisible by 3:\")\n",
        "for i in range(1, user_num + 1):\n",
        "    if i % 3 == 0:\n",
        "        print(i)"
      ],
      "metadata": {
        "id": "i4Q2MOTY31tM",
        "colab": {
          "base_uri": "https://localhost:8080/"
        },
        "outputId": "7b813d4d-c971-4231-a9ab-0f75f80d3702"
      },
      "execution_count": 53,
      "outputs": [
        {
          "output_type": "stream",
          "name": "stdout",
          "text": [
            "Enter a number: 99\n",
            "Numbers from 1 to 99 divisible by 3:\n",
            "3\n",
            "6\n",
            "9\n",
            "12\n",
            "15\n",
            "18\n",
            "21\n",
            "24\n",
            "27\n",
            "30\n",
            "33\n",
            "36\n",
            "39\n",
            "42\n",
            "45\n",
            "48\n",
            "51\n",
            "54\n",
            "57\n",
            "60\n",
            "63\n",
            "66\n",
            "69\n",
            "72\n",
            "75\n",
            "78\n",
            "81\n",
            "84\n",
            "87\n",
            "90\n",
            "93\n",
            "96\n",
            "99\n"
          ]
        }
      ]
    },
    {
      "cell_type": "markdown",
      "source": [
        "Wish you all the best,\n",
        "\n",
        "Abdul"
      ],
      "metadata": {
        "id": "mPHqYsqW33Uh"
      }
    }
  ]
}